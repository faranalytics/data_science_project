{
 "cells": [
  {
   "cell_type": "code",
   "execution_count": null,
   "metadata": {},
   "outputs": [],
   "source": [
    "# Import the path of each sub-package.\n",
    "\n",
    "from package.materials import MATERIALS_PATH\n",
    "from package.methods import METHODS_PATH\n",
    "from package.results import RESULTS_PATH"
   ]
  },
  {
   "cell_type": "code",
   "execution_count": null,
   "metadata": {},
   "outputs": [],
   "source": [
    "# Set the __package__ attribute for a relative import.\n",
    "\n",
    "__package__ = \"package.methods.notebooks\"\n",
    "\n",
    "from ..utils import say_hello\n",
    "\n",
    "print(say_hello())"
   ]
  },
  {
   "cell_type": "code",
   "execution_count": null,
   "metadata": {},
   "outputs": [],
   "source": [
    "# Import a utility function from the methods package.\n",
    "\n",
    "from package.methods.utils import say_hello\n",
    "\n",
    "print(say_hello())"
   ]
  },
  {
   "cell_type": "code",
   "execution_count": null,
   "metadata": {},
   "outputs": [],
   "source": [
    "from pprint import pprint\n",
    "import pickle\n",
    "\n",
    "# Read `iris.data` from the MATERIALS_PATH.\n",
    "\n",
    "data = [\n",
    "    line.strip().split(\",\")\n",
    "    for line in open(MATERIALS_PATH.joinpath(\"iris/iris.data\")).readlines()[:-1]\n",
    "]\n",
    "\n",
    "pprint(data)\n",
    "\n",
    "# Write the `iris.data.pkl` table to RESULTS_PATH.\n",
    "\n",
    "pickle.dump(data, open(RESULTS_PATH.joinpath(\"iris.data.pkl\"), \"wb\"))"
   ]
  },
  {
   "cell_type": "code",
   "execution_count": null,
   "metadata": {},
   "outputs": [],
   "source": [
    "# Import the iris data set from the results sub-package.\n",
    "\n",
    "from package.results import iris\n",
    "\n",
    "iris"
   ]
  },
  {
   "cell_type": "code",
   "execution_count": null,
   "metadata": {},
   "outputs": [],
   "source": []
  }
 ],
 "metadata": {
  "kernelspec": {
   "display_name": "data_science_project",
   "language": "python",
   "name": "python3"
  },
  "language_info": {
   "codemirror_mode": {
    "name": "ipython",
    "version": 3
   },
   "file_extension": ".py",
   "mimetype": "text/x-python",
   "name": "python",
   "nbconvert_exporter": "python",
   "pygments_lexer": "ipython3",
   "version": "3.8.20"
  }
 },
 "nbformat": 4,
 "nbformat_minor": 2
}
