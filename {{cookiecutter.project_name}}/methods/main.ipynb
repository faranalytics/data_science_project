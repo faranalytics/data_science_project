{
 "cells": [
  {
   "cell_type": "code",
   "execution_count": 1,
   "metadata": {},
   "outputs": [],
   "source": [
    "# Import the path of each directory.\n",
    "import pathlib\n",
    "MATERIALS_PATH = pathlib.Path('../materials')\n",
    "METHODS_PATH = pathlib.Path('../methods')\n",
    "RESULTS_PATH = pathlib.Path('../results')"
   ]
  }
 ],
 "metadata": {
  "kernelspec": {
   "display_name": "data_science_project",
   "language": "python",
   "name": "python3"
  },
  "language_info": {
   "codemirror_mode": {
    "name": "ipython",
    "version": 3
   },
   "file_extension": ".py",
   "mimetype": "text/x-python",
   "name": "python",
   "nbconvert_exporter": "python",
   "pygments_lexer": "ipython3",
   "version": "3.8.20"
  }
 },
 "nbformat": 4,
 "nbformat_minor": 2
}
